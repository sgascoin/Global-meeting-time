{
 "cells": [
  {
   "cell_type": "markdown",
   "metadata": {},
   "source": [
    "Assuming that every human on the planet is working everyday, what is the best time of the day to maximize attendance to a global work meeting?"
   ]
  },
  {
   "cell_type": "code",
   "execution_count": 1,
   "metadata": {},
   "outputs": [],
   "source": [
    "import pandas as pd"
   ]
  },
  {
   "cell_type": "code",
   "execution_count": 2,
   "metadata": {},
   "outputs": [
    {
     "data": {
      "image/png": "[encoded data removed]",
      "text/plain": [
       "<Figure size 432x288 with 1 Axes>"
      ]
     },
     "metadata": {
      "needs_background": "light"
     },
     "output_type": "display_data"
    }
   ],
   "source": [
    "# Population by UTC Time \n",
    "# source: Tab.1 in Crump & Davies (2021) http://doi.org/10.1136/bmjopen-2021-056696\n",
    "# Given in normal time, not summer time (e.g. CET is UTC+1)\n",
    "df = pd.read_csv('utc_pop.csv')\n",
    "df.plot(x='UTC offset', kind='bar', ylabel='Population, millions', legend=None);"
   ]
  },
  {
   "cell_type": "code",
   "execution_count": 3,
   "metadata": {},
   "outputs": [],
   "source": [
    "def compute_meeting_population(hh, h1=9, h2=17):\n",
    "    '''\n",
    "    returns the total population available at meeting time\n",
    "    hh: meeting time in hr UTC\n",
    "    h1,h2: first and last hour of a decent working day\n",
    "    df global variable read above\n",
    "    '''\n",
    "    # add meeting local time to every row of df\n",
    "    df['meeting LT'] = df.apply(lambda x : hh + x['UTC offset'], axis=1)\n",
    "    # compute total population between h1 and h2\n",
    "    return df['Population'][df['meeting LT'].between(h1,h2)].sum()\n"
   ]
  },
  {
   "cell_type": "code",
   "execution_count": 4,
   "metadata": {},
   "outputs": [],
   "source": [
    "dftime = pd.DataFrame({'Meeting time in UTC':range(0,24)})\n",
    "dftime['Population'] = dftime.applymap(compute_meeting_population)"
   ]
  },
  {
   "cell_type": "code",
   "execution_count": 5,
   "metadata": {},
   "outputs": [
    {
     "data": {
      "image/png": "[encoded data removed]",
      "text/plain": [
       "<Figure size 432x288 with 1 Axes>"
      ]
     },
     "metadata": {
      "needs_background": "light"
     },
     "output_type": "display_data"
    }
   ],
   "source": [
    "dftime.plot(\n",
    "    x='Meeting time in UTC', \n",
    "    kind='bar', \n",
    "    legend=None, \n",
    "    ylabel='Population, millions',\n",
    "    title='Population in working time (9am-5pm)'\n",
    ");"
   ]
  },
  {
   "cell_type": "code",
   "execution_count": 9,
   "metadata": {},
   "outputs": [],
   "source": [
    "def h1h2(d,ct=13):\n",
    "    '''\n",
    "    returns min and max hours of a working day of duration d\n",
    "    ct: center time\n",
    "    '''\n",
    "    h1 = ct - d/2\n",
    "    h2 = ct + d/2  \n",
    "    return (h1,h2)\n",
    "\n",
    "def max_population(d):\n",
    "    '''\n",
    "    returns the maximum population\n",
    "    '''\n",
    "    h1, h2 = h1h2(d['Working time duration'],ct=13)\n",
    "    dftime = pd.DataFrame({'Meeting time in UTC':range(0,24)})\n",
    "    dftime['Population'] = dftime.apply(compute_meeting_population, h1=h1, h2=h2, axis=1)\n",
    "    ix = dftime['Population'].idxmax()\n",
    "    return (dftime['Population'].max(), dftime['Meeting time in UTC'][ix])\n",
    "\n",
    "dflen = pd.DataFrame({'Working time duration':range(8,18,2)})\n",
    "dflen[['Maximum population','Optimal time in UTC']] = dflen.apply(\n",
    "    max_population, result_type='expand', axis=1)"
   ]
  },
  {
   "cell_type": "code",
   "execution_count": 10,
   "metadata": {},
   "outputs": [
    {
     "data": {
      "text/html": [
       "<div>\n",
       "<style scoped>\n",
       "    .dataframe tbody tr th:only-of-type {\n",
       "        vertical-align: middle;\n",
       "    }\n",
       "\n",
       "    .dataframe tbody tr th {\n",
       "        vertical-align: top;\n",
       "    }\n",
       "\n",
       "    .dataframe thead th {\n",
       "        text-align: right;\n",
       "    }\n",
       "</style>\n",
       "<table border=\"1\" class=\"dataframe\">\n",
       "  <thead>\n",
       "    <tr style=\"text-align: right;\">\n",
       "      <th></th>\n",
       "      <th>Working time duration</th>\n",
       "      <th>Maximum population</th>\n",
       "      <th>Optimal time in UTC</th>\n",
       "      <th>Working time interval</th>\n",
       "    </tr>\n",
       "  </thead>\n",
       "  <tbody>\n",
       "    <tr>\n",
       "      <th>0</th>\n",
       "      <td>8</td>\n",
       "      <td>6469.67</td>\n",
       "      <td>9.0</td>\n",
       "      <td>(9, 17]</td>\n",
       "    </tr>\n",
       "    <tr>\n",
       "      <th>1</th>\n",
       "      <td>10</td>\n",
       "      <td>6723.60</td>\n",
       "      <td>8.0</td>\n",
       "      <td>(8, 18]</td>\n",
       "    </tr>\n",
       "    <tr>\n",
       "      <th>2</th>\n",
       "      <td>12</td>\n",
       "      <td>6944.53</td>\n",
       "      <td>10.0</td>\n",
       "      <td>(7, 19]</td>\n",
       "    </tr>\n",
       "    <tr>\n",
       "      <th>3</th>\n",
       "      <td>14</td>\n",
       "      <td>7403.31</td>\n",
       "      <td>12.0</td>\n",
       "      <td>(6, 20]</td>\n",
       "    </tr>\n",
       "    <tr>\n",
       "      <th>4</th>\n",
       "      <td>16</td>\n",
       "      <td>7664.86</td>\n",
       "      <td>12.0</td>\n",
       "      <td>(5, 21]</td>\n",
       "    </tr>\n",
       "  </tbody>\n",
       "</table>\n",
       "</div>"
      ],
      "text/plain": [
       "   Working time duration  Maximum population  Optimal time in UTC  \\\n",
       "0                      8             6469.67                  9.0   \n",
       "1                     10             6723.60                  8.0   \n",
       "2                     12             6944.53                 10.0   \n",
       "3                     14             7403.31                 12.0   \n",
       "4                     16             7664.86                 12.0   \n",
       "\n",
       "  Working time interval  \n",
       "0               (9, 17]  \n",
       "1               (8, 18]  \n",
       "2               (7, 19]  \n",
       "3               (6, 20]  \n",
       "4               (5, 21]  "
      ]
     },
     "execution_count": 10,
     "metadata": {},
     "output_type": "execute_result"
    }
   ],
   "source": [
    "# add intervals for the plot\n",
    "dflen['Working time interval'] = dflen['Working time duration'].apply(\n",
    "    lambda x : pd.Interval(\n",
    "        left = int(h1h2(x)[0]),\n",
    "        right = int(h1h2(x)[1])))\n",
    "dflen"
   ]
  },
  {
   "cell_type": "code",
   "execution_count": 11,
   "metadata": {},
   "outputs": [
    {
     "data": {
      "image/png": "[encoded data removed]",
      "text/plain": [
       "<Figure size 432x288 with 1 Axes>"
      ]
     },
     "metadata": {
      "needs_background": "light"
     },
     "output_type": "display_data"
    }
   ],
   "source": [
    "dflen.plot(\n",
    "    x='Working time interval',\n",
    "    y='Maximum population', \n",
    "    kind='bar', \n",
    "    legend=None,\n",
    "    ylabel='Population, millions',\n",
    "    title='Population in working time'\n",
    ");"
   ]
  },
  {
   "cell_type": "markdown",
   "metadata": {},
   "source": [
    "In conclusion, the best time of the day to maximize attendance to a global meeting depends on the duration of the working day. If all humans work 8 hours per day from 9am to 5pm (local time), then the best hour of the day to maximize attendance is 9:00 UTC. This would allow people living in countries from UTC+0 (east Europe) to UTC+8 (China) to attend the meeting, but it would exclude people living in the Americas."
   ]
  }
 ],
 "metadata": {
  "kernelspec": {
   "display_name": "Python 3",
   "language": "python",
   "name": "python3"
  },
  "language_info": {
   "codemirror_mode": {
    "name": "ipython",
    "version": 3
   },
   "file_extension": ".py",
   "mimetype": "text/x-python",
   "name": "python",
   "nbconvert_exporter": "python",
   "pygments_lexer": "ipython3",
   "version": "3.8.15"
  }
 },
 "nbformat": 4,
 "nbformat_minor": 4
}
